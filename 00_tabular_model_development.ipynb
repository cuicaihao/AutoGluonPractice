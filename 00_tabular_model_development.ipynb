{
 "cells": [
  {
   "attachments": {},
   "cell_type": "markdown",
   "id": "80fvupmY_Ewm",
   "metadata": {
    "tags": [
     "heading"
    ]
   },
   "source": [
    "# AutoGluon Tabular - Quick Start\n",
    "\n",
    "[![Open In Colab](https://colab.research.google.com/assets/colab-badge.svg)](https://colab.research.google.com/github/autogluon/autogluon/blob/stable/docs/tutorials/tabular/tabular-quick-start.ipynb)\n",
    "[![Open In SageMaker Studio Lab](https://studiolab.sagemaker.aws/studiolab.svg)](https://studiolab.sagemaker.aws/import/github/autogluon/autogluon/blob/stable/docs/tutorials/tabular/tabular-quick-start.ipynb)\n",
    "\n",
    "In this tutorial, we will see how to use AutoGluon's `TabularPredictor` to predict the values of a target column based on the other columns in a tabular dataset.\n",
    "\n",
    "Begin by making sure AutoGluon is installed, and then import AutoGluon's `TabularDataset` and `TabularPredictor`. We will use the former to load data and the latter to train models and make predictions. \n",
    "\n",
    "```bash\n",
    "    python -m pip install --upgrade pip\n",
    "    python -m pip install autogluon \n",
    "```"
   ]
  },
  {
   "cell_type": "code",
   "execution_count": null,
   "id": "fddb9232-2d36-4acd-8f53-d7b057b9c321",
   "metadata": {},
   "outputs": [],
   "source": [
    "import sys\n",
    "print(sys.version)"
   ]
  },
  {
   "cell_type": "code",
   "execution_count": null,
   "id": "c448779f-eaf7-4b30-b3fc-2b7b5d5d0410",
   "metadata": {},
   "outputs": [],
   "source": [
    "import autogluon\n",
    "help(autogluon)"
   ]
  },
  {
   "cell_type": "code",
   "execution_count": null,
   "id": "ILnceqlu_Ewq",
   "metadata": {},
   "outputs": [],
   "source": [
    "from autogluon.tabular import TabularDataset, TabularPredictor"
   ]
  },
  {
   "attachments": {},
   "cell_type": "markdown",
   "id": "lwd2ryFq_Ewq",
   "metadata": {},
   "source": [
    "## Example Data"
   ]
  },
  {
   "attachments": {},
   "cell_type": "markdown",
   "id": "9GMI5m2v_Ewq",
   "metadata": {},
   "source": [
    "For this tutorial we will use a dataset from the cover story of [Nature issue 7887](https://www.nature.com/nature/volumes/600/issues/7887): [AI-guided intuition for math theorems](https://www.nature.com/articles/s41586-021-04086-x.pdf). The goal is to predict a knot's signature based on its properties. We sampled 10K training and 5K test examples from the [original data](https://github.com/deepmind/mathematics_conjectures/blob/main/knot_theory.ipynb). The sampled dataset make this tutorial run quickly, but AutoGluon can handle the full dataset if desired.\n",
    "\n",
    "We load this dataset directly from a URL. AutoGluon's `TabularDataset` is a subclass of pandas [DataFrame](https://pandas.pydata.org/docs/reference/api/pandas.DataFrame.html), so any `DataFrame` methods can be used on `TabularDataset` as well."
   ]
  },
  {
   "cell_type": "code",
   "execution_count": null,
   "id": "iU8ibdfv_Ewr",
   "metadata": {},
   "outputs": [],
   "source": [
    "data_url = 'https://raw.githubusercontent.com/mli/ag-docs/main/knot_theory/'\n",
    "train_data = TabularDataset(f'{data_url}train.csv')\n",
    "train_data.head()"
   ]
  },
  {
   "cell_type": "code",
   "execution_count": null,
   "id": "2dfd1cba",
   "metadata": {},
   "outputs": [],
   "source": [
    "train_data.rename(columns={'Unnamed: 0': 'id'}, inplace=True)\n",
    "train_data.set_index('id', inplace=True)\n",
    "train_data.head()"
   ]
  },
  {
   "attachments": {},
   "cell_type": "markdown",
   "id": "IB-KNj3j_Ewr",
   "metadata": {},
   "source": [
    "Our targets are stored in the \"signature\" column, which has 18 unique integers. Even though pandas didn't correctly recognize this data type as categorical, AutoGluon will fix this issue.\n"
   ]
  },
  {
   "cell_type": "code",
   "execution_count": null,
   "id": "obSNfoWP_Ews",
   "metadata": {},
   "outputs": [],
   "source": [
    "label = 'signature'\n",
    "train_data[label].describe()"
   ]
  },
  {
   "cell_type": "code",
   "execution_count": null,
   "id": "18001382",
   "metadata": {},
   "outputs": [],
   "source": [
    "train_data[label].value_counts()"
   ]
  },
  {
   "cell_type": "code",
   "execution_count": null,
   "id": "cc2a879e",
   "metadata": {
    "tags": [
     "figure"
    ]
   },
   "outputs": [],
   "source": [
    "# plot a pie chart to show the distribution of the labels\n",
    "train_data[label].value_counts().plot(kind='pie', figsize=(8, 8), autopct='%1.0f%%')"
   ]
  },
  {
   "cell_type": "code",
   "execution_count": null,
   "id": "54e4acc9",
   "metadata": {},
   "outputs": [],
   "source": [
    "train_data.to_csv('train.csv', index=True)"
   ]
  },
  {
   "attachments": {},
   "cell_type": "markdown",
   "id": "EiVX1neh_Ews",
   "metadata": {},
   "source": [
    "## Training\n",
    "\n",
    "We now construct a `TabularPredictor` by specifying the label column name and then train on the dataset with `TabularPredictor.fit()`. We don't need to specify any other parameters. AutoGluon will recognize this is a multi-class classification task, perform automatic feature engineering, train multiple models, and then ensemble the models to create the final predictor. "
   ]
  },
  {
   "attachments": {},
   "cell_type": "markdown",
   "id": "4a3f7e8c",
   "metadata": {},
   "source": [
    "- hyperparameters (str or dict, default = 'default') –\n",
    "\n",
    "Determines the hyperparameters used by the models. If str is passed, will use a preset hyperparameter configuration.\n",
    "\n",
    "Valid str options: [‘default’, ‘light’, ‘very_light’, ‘toy’, ‘multimodal’]\n",
    "\n",
    "- ’default’: Default AutoGluon hyperparameters intended to maximize accuracy without significant regard to inference time or disk usage.\n",
    "- ‘light’: Results in smaller models. Generally will make inference speed much faster and disk usage much lower, but with worse accuracy.\n",
    "- ‘very_light’: Results in much smaller models. Behaves similarly to\n",
    "- ‘light’, but in many cases with over 10x less disk usage and a further reduction in accuracy.\n",
    "- ‘toy’: Results in extremely small models. Only use this when prototyping, as the model quality will be severely reduced.\n",
    "- ‘multimodal’: [EXPERIMENTAL] Trains a multimodal transformer model alongside tabular models. Requires that some text columns appear in the data, a GPU, and CUDA-enabled MXNet."
   ]
  },
  {
   "cell_type": "code",
   "execution_count": null,
   "id": "_qECNMn__Ews",
   "metadata": {
    "scrolled": true,
    "tags": [
     "hide-output"
    ]
   },
   "outputs": [],
   "source": [
    "predictor = TabularPredictor(label=label, path='./ag_AutogluonModels/').fit(train_data, time_limit=60*10, hyperparameters='toy', verbosity=1)\n"
   ]
  },
  {
   "cell_type": "code",
   "execution_count": null,
   "id": "78e201dd",
   "metadata": {},
   "outputs": [],
   "source": [
    "predictor.leaderboard(silent=True)"
   ]
  },
  {
   "cell_type": "code",
   "execution_count": null,
   "id": "88d221f8",
   "metadata": {},
   "outputs": [],
   "source": [
    "predictor.fit_summary(show_plot=True)"
   ]
  },
  {
   "attachments": {},
   "cell_type": "markdown",
   "id": "r5VHCWh2_Ewt",
   "metadata": {},
   "source": [
    "Model fitting should take a few minutes or less depending on your CPU. You can make training faster by specifying the `time_limit` argument. For example, `fit(..., time_limit=60)` will stop training after 60 seconds. Higher time limits will generally result in better prediction performance, and excessively low time limits will prevent AutoGluon from training and ensembling a reasonable set of models.\n",
    "\n"
   ]
  },
  {
   "attachments": {},
   "cell_type": "markdown",
   "id": "eBMMvnYJ_Ewt",
   "metadata": {},
   "source": [
    "## Prediction\n",
    "\n",
    "Once we have a predictor that is fit on the training dataset, we can load a separate set of data to use for prediction and evaulation."
   ]
  },
  {
   "cell_type": "code",
   "execution_count": null,
   "id": "Jq7yXRiz_Ewt",
   "metadata": {},
   "outputs": [],
   "source": [
    "test_data = TabularDataset(f'{data_url}test.csv')\n",
    "y_pred = predictor.predict(test_data.drop(columns=[label]))\n",
    "y_pred.head()"
   ]
  },
  {
   "attachments": {},
   "cell_type": "markdown",
   "id": "cKHAjClq_Ewt",
   "metadata": {},
   "source": [
    "## Evaluation\n",
    "\n",
    "We can evaluate the predictor on the test dataset using the `evaluate()` function, which measures how well our predictor performs on data that was not used for fitting the models."
   ]
  },
  {
   "cell_type": "code",
   "execution_count": null,
   "id": "KfKtSyAM_Ewu",
   "metadata": {},
   "outputs": [],
   "source": [
    "predictor.evaluate(test_data, silent=True)"
   ]
  },
  {
   "attachments": {},
   "cell_type": "markdown",
   "id": "0QUsT-os_Ewu",
   "metadata": {},
   "source": [
    "AutoGluon's `TabularPredictor` also provides the `leaderboard()` function, which allows us to evaluate the performance of each individual trained model on the test data."
   ]
  },
  {
   "cell_type": "code",
   "execution_count": null,
   "id": "LbA8ArGK_Ewu",
   "metadata": {},
   "outputs": [],
   "source": [
    "predictor.leaderboard(test_data, silent=True)"
   ]
  },
  {
   "attachments": {},
   "cell_type": "markdown",
   "id": "20e8f037",
   "metadata": {},
   "source": [
    "## Delpoying the model"
   ]
  },
  {
   "cell_type": "code",
   "execution_count": null,
   "id": "f904aa91",
   "metadata": {},
   "outputs": [],
   "source": [
    "predictor = TabularPredictor.load('ag_AutogluonModels/')\n",
    "# predictor.presist_models()"
   ]
  },
  {
   "cell_type": "code",
   "execution_count": null,
   "id": "14ab0cfe",
   "metadata": {},
   "outputs": [],
   "source": [
    "predictor.predict(test_data.drop(columns=[label]))"
   ]
  },
  {
   "attachments": {},
   "cell_type": "markdown",
   "id": "I-da0PXvpD96",
   "metadata": {},
   "source": [
    "## Conclusion\n",
    "\n",
    "In this quickstart tutorial we saw AutoGluon's basic fit and predict functionality using `TabularDataset` and `TabularPredictor`. AutoGluon simplifies the model training process by not requiring feature engineering or model hyperparameter tuning. Check out the in-depth tutorials to learn more about AutoGluon's other features like customizing the training and prediction steps or extending AutoGluon with custom feature generators, models, or metrics."
   ]
  }
 ],
 "metadata": {
  "celltoolbar": "Edit Metadata",
  "colab": {
   "provenance": []
  },
  "kernelspec": {
   "display_name": "ag-pip",
   "language": "python",
   "name": "python3"
  },
  "language_info": {
   "codemirror_mode": {
    "name": "ipython",
    "version": 3
   },
   "file_extension": ".py",
   "mimetype": "text/x-python",
   "name": "python",
   "nbconvert_exporter": "python",
   "pygments_lexer": "ipython3"
  }
 },
 "nbformat": 4,
 "nbformat_minor": 5
}
